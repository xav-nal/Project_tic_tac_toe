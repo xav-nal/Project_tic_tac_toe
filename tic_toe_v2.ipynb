{
 "cells": [
  {
   "cell_type": "code",
   "execution_count": 1,
   "metadata": {},
   "outputs": [],
   "source": [
    "import numpy as np\n",
    "from tic_env import TictactoeEnv, OptimalPlayer\n",
    "import random\n",
    "import matplotlib.pyplot as plt"
   ]
  },
  {
   "cell_type": "code",
   "execution_count": 2,
   "metadata": {},
   "outputs": [],
   "source": [
    "env = TictactoeEnv() #To initialize the environment"
   ]
  },
  {
   "cell_type": "code",
   "execution_count": 3,
   "metadata": {},
   "outputs": [],
   "source": [
    "Q = {}\n",
    "\n",
    "action = {\n",
    "    0: (0,0),\n",
    "    1: (0,1),\n",
    "    2: (0,2),\n",
    "    3: (1,0),\n",
    "    4: (1,1),\n",
    "    5: (1,2),\n",
    "    6: (2,0),\n",
    "    7: (2,1),\n",
    "    8: (2,2)\n",
    "}\n",
    "\n",
    "rev_action = {\n",
    "    (0,0) :0,\n",
    "    (0,1) :1,\n",
    "    (0,2) :2,\n",
    "    (1,0) :3,\n",
    "    (1,1) :4,\n",
    "    (1,2) :5,\n",
    "    (2,0) :6,\n",
    "    (2,1) :7,\n",
    "    (2,2) :8\n",
    "}"
   ]
  },
  {
   "cell_type": "code",
   "execution_count": 6,
   "metadata": {},
   "outputs": [],
   "source": [
    "def best_action(state,act,Q_values):\n",
    "    possible_actions = []\n",
    "    local_q = 0\n",
    "    str_state = str(state.flatten())\n",
    "    for k in range(9):\n",
    "        if state[act[k]] == 0:\n",
    "            if  (str_state,k) in Q_values:\n",
    "                possible_actions.append((k,Q_values[(str_state,k)]))\n",
    "            else:\n",
    "                Q_values[(str_state,k)] = 0\n",
    "                possible_actions.append((k,0))\n",
    "    mult_max = max(possible_actions,key=lambda item:item[1])\n",
    "    max_actions = []\n",
    "    for i in possible_actions:\n",
    "        if i[1] == mult_max[1]:\n",
    "            max_actions.append(i)\n",
    "    #print (\"loop: \",max_actions, random.choice(max_actions))\n",
    "    return random.choice(max_actions)\n",
    "    #return max(possible_actions,key=lambda item:item[1])"
   ]
  },
  {
   "cell_type": "code",
   "execution_count": 5,
   "metadata": {},
   "outputs": [],
   "source": [
    "def number_wins(eps):    \n",
    "      N_win = 0\n",
    "      N_wino = 0\n",
    "      draw = 0\n",
    "      for games in range(500):\n",
    "\n",
    "            env.reset()\n",
    "            if games%2 == 0:\n",
    "                  opt_player = OptimalPlayer(epsilon = eps, player = 'O')\n",
    "\n",
    "            if games%2 == 1:\n",
    "                  opt_player = OptimalPlayer(epsilon = eps, player = 'X')\n",
    "                  grid, _, __ = env.observe()\n",
    "                  comp_move = opt_player.act(grid)\n",
    "                  env.step(comp_move)\n",
    "      \n",
    "            for rounds in range(5):\n",
    "                  state_now = str(env.observe()[0].flatten())\n",
    "                  #selecting the best action considering the present state\n",
    "                  best_action1, _ = best_action(env.observe()[0],action,Q)\n",
    "        \n",
    "                  #make the move with that best action\n",
    "                  env.step(best_action1)\n",
    "                  #env.render()\n",
    "                  #Now the computer plays (for a fair game ahaha)\n",
    "                  grid, _, __ = env.observe()\n",
    "        \n",
    "                  if env.observe()[1] == True:\n",
    "                        if str(env.winner) == 'X' and games%2 == 0:\n",
    "                              N_win = N_win+1\n",
    "                        elif str(env.winner) == 'O' and games%2 == 0:\n",
    "                              N_wino = N_wino+1\n",
    "                        elif str(env.winner) == 'O' and games%2 == 1:\n",
    "                              N_win = N_win+1\n",
    "                        elif str(env.winner) == 'X' and games%2 == 1:\n",
    "                              N_wino = N_wino+1\n",
    "                        else:\n",
    "                              draw = draw+1\n",
    "                        break\n",
    "        \n",
    "                  comp_move = opt_player.act(grid)\n",
    "                  env.step(comp_move)\n",
    "\n",
    "                  if env.observe()[1] == True:\n",
    "                        if str(env.winner) == 'X' and games%2 == 0:\n",
    "                              N_win = N_win+1\n",
    "                        elif str(env.winner) == 'O' and games%2 == 0:\n",
    "                              N_wino = N_wino+1\n",
    "                        elif str(env.winner) == 'O' and games%2 == 1:\n",
    "                              N_win = N_win+1\n",
    "                        elif str(env.winner) == 'X' and games%2 == 1:\n",
    "                              N_wino = N_wino+1\n",
    "                        else:\n",
    "                              draw = draw+1\n",
    "                        break\n",
    "\n",
    "      return N_win, N_wino\n"
   ]
  },
  {
   "cell_type": "code",
   "execution_count": 7,
   "metadata": {},
   "outputs": [],
   "source": [
    "M_opt = []\n",
    "M_rand = []\n",
    "#rew = []\n",
    "for games in range(20000):\n",
    "    env.reset()\n",
    "\n",
    "    \n",
    "    if games%1000 ==0:\n",
    "        N_me, N_comp = number_wins(0.)\n",
    "        M_opt.append((N_me-N_comp)/500)\n",
    "        env.reset()\n",
    "        N_me, N_comp = number_wins(1.)\n",
    "        M_rand.append((N_me-N_comp)/500)\n",
    "        env.reset()\n",
    "\n",
    "    if games%2 == 0:\n",
    "        player1 = \"X\"\n",
    "        player2 = \"O\"\n",
    "        opt_player = OptimalPlayer(epsilon = 0.5, player = player2)\n",
    "    if games%2 == 1:\n",
    "        player1 = \"O\"\n",
    "        player2 = \"X\"\n",
    "        #change the state by *-1 when best player is X\n",
    "        opt_player = OptimalPlayer(epsilon = 0.5, player = player2)\n",
    "        grid, _, __ = env.observe()\n",
    "        comp_move = opt_player.act(grid)\n",
    "        env.step(comp_move)\n",
    "\n",
    "\n",
    "    for rounds in range(5):\n",
    "\n",
    "        #I play\n",
    "        state_now = str(env.observe()[0].flatten())\n",
    "        #selecting the best action considering the present state\n",
    "        best_action1, _ = best_action(env.observe()[0],action,Q)\n",
    "        \n",
    "        #make the move with that best action\n",
    "        env.step(best_action1)\n",
    "\n",
    "        #Now the computer plays (for a fair game ahaha)\n",
    "        grid, _, __ = env.observe()\n",
    "        \n",
    "        if env.observe()[1] == True:\n",
    "              #rew.append(env.reward(player=player1))\n",
    "              Q[(state_now,best_action1)] = Q[(state_now,best_action1)] + 0.05*(env.reward(player=player1))\n",
    "              break\n",
    "        \n",
    "        \n",
    "        comp_now = str(env.observe()[0].flatten())\n",
    "        comp_move = opt_player.act(grid)\n",
    "        env.step(comp_move)\n",
    "\n",
    "        if env.observe()[1] == True:\n",
    "              #rew.append(env.reward(player=player1))\n",
    "              Q[(state_now,best_action1)] = Q[(state_now,best_action1)] + 0.05*(env.reward(player=player1))\n",
    "              break\n",
    "\n",
    "        #Gather information about the state the game is in after the computer played\n",
    "        future_state = str(env.observe()[0].flatten())\n",
    "        fut_best_action, _ = best_action(env.observe()[0],action,Q)\n",
    "   \n",
    "        if env.observe()[1] == True:\n",
    "            Q[(state_now,best_action1)] = Q[(state_now,best_action1)] + 0.05*(env.reward(player=player1) + 0.99*Q[(future_state,fut_best_action)] - Q[(state_now,best_action1)])\n",
    "            break\n",
    "\n",
    "        else:\n",
    "              Q[(state_now,best_action1)] = Q[(state_now,best_action1)] + 0.05*(env.reward(player=player1) + 0.99*Q[(future_state,fut_best_action)] - Q[(state_now,best_action1)])\n",
    "              \n"
   ]
  },
  {
   "cell_type": "code",
   "execution_count": 8,
   "metadata": {},
   "outputs": [
    {
     "data": {
      "image/png": "[encoded data removed]",
      "text/plain": [
       "<Figure size 432x288 with 1 Axes>"
      ]
     },
     "metadata": {
      "needs_background": "light"
     },
     "output_type": "display_data"
    }
   ],
   "source": [
    "plt.plot(M_opt)\n",
    "plt.show()"
   ]
  },
  {
   "cell_type": "code",
   "execution_count": 9,
   "metadata": {},
   "outputs": [
    {
     "data": {
      "image/png": "[encoded data removed]",
      "text/plain": [
       "<Figure size 432x288 with 1 Axes>"
      ]
     },
     "metadata": {
      "needs_background": "light"
     },
     "output_type": "display_data"
    }
   ],
   "source": [
    "plt.plot(M_rand)\n",
    "plt.show()"
   ]
  },
  {
   "cell_type": "markdown",
   "metadata": {},
   "source": [
    "# Q Learning by playing against ourselves "
   ]
  },
  {
   "cell_type": "code",
   "execution_count": 20,
   "metadata": {},
   "outputs": [],
   "source": [
    "Q = {}\n",
    "\n",
    "action = {\n",
    "    0: (0,0),\n",
    "    1: (0,1),\n",
    "    2: (0,2),\n",
    "    3: (1,0),\n",
    "    4: (1,1),\n",
    "    5: (1,2),\n",
    "    6: (2,0),\n",
    "    7: (2,1),\n",
    "    8: (2,2)\n",
    "}\n",
    "\n",
    "rev_action = {\n",
    "    (0,0) :0,\n",
    "    (0,1) :1,\n",
    "    (0,2) :2,\n",
    "    (1,0) :3,\n",
    "    (1,1) :4,\n",
    "    (1,2) :5,\n",
    "    (2,0) :6,\n",
    "    (2,1) :7,\n",
    "    (2,2) :8\n",
    "}"
   ]
  },
  {
   "cell_type": "code",
   "execution_count": 19,
   "metadata": {},
   "outputs": [],
   "source": [
    "def best_action_policy(state,act,Q_values,epsilon):\n",
    "    possible_actions = []\n",
    "    str_state = str(state.flatten())\n",
    "    for k in range(9):\n",
    "        if state[act[k]] == 0:\n",
    "            if  (str_state,k) in Q_values:\n",
    "                possible_actions.append((k,Q_values[(str_state,k)]))\n",
    "            else:\n",
    "                Q_values[(str_state,k)] = 0\n",
    "                possible_actions.append((k,0))\n",
    "    \n",
    "    mult_max = max(possible_actions,key=lambda item:item[1])\n",
    "    max_actions = []\n",
    "    for i in possible_actions:\n",
    "        if i[1] == mult_max[1]:\n",
    "            max_actions.append(i)\n",
    "    if epsilon == 0.:\n",
    "        return random.choice(max_actions)\n",
    "    else:\n",
    "        random_number = random.randint(0, 10)\n",
    "        if random_number >= epsilon*10:\n",
    "            return random.choice(max_actions)\n",
    "        else:\n",
    "            return random.choice(possible_actions)\n",
    "\n",
    "    #return max(possible_actions,key=lambda item:item[1])"
   ]
  },
  {
   "cell_type": "code",
   "execution_count": 21,
   "metadata": {},
   "outputs": [],
   "source": [
    "M_opt = []\n",
    "M_rand = []\n",
    "rew = []\n",
    "for games in range(20000):\n",
    "    env.reset()\n",
    "\n",
    "    if games%500 ==0:\n",
    "        N_me, N_comp = number_wins(0.)\n",
    "        M_opt.append((N_me-N_comp)/500)\n",
    "        env.reset()\n",
    "        N_me, N_comp = number_wins(1.)\n",
    "        M_rand.append((N_me-N_comp)/500)\n",
    "        env.reset()\n",
    "\n",
    "    if games%2 == 0:\n",
    "        player1 = \"X\"\n",
    "        player2 = \"O\"\n",
    "    if games%2 == 1:\n",
    "        player1 = \"O\"\n",
    "        player2 = \"X\"\n",
    "        state101 = str(env.observe()[0].flatten())\n",
    "        best_action101, _ = best_action_policy(env.observe()[0],action,Q,0.3)\n",
    "        env.step(best_action101)\n",
    "        \n",
    "\n",
    "    for rounds in range(5):\n",
    "\n",
    "        #I play\n",
    "        state_now = str(env.observe()[0].flatten())\n",
    "        #selecting the best action considering the present state\n",
    "        best_action1, _ = best_action_policy(env.observe()[0],action,Q,0.3)\n",
    "        \n",
    "        #make the move with that best action\n",
    "        env.step(best_action1)\n",
    "\n",
    "        #Now the computer plays (for a fair game ahaha)\n",
    "        grid, _, __ = env.observe()\n",
    "        \n",
    "        if env.observe()[1] == True:\n",
    "              rew.append(env.reward(player=player1))\n",
    "              Q[(state_now,best_action1)] = Q[(state_now,best_action1)] + 0.05*(env.reward(player=player1))\n",
    "              break\n",
    "        \n",
    "        \n",
    "        state_now2 = str(env.observe()[0].flatten())\n",
    "        our_move2, _ = best_action_policy(env.observe()[0],action,Q,0.3)\n",
    "        env.step(our_move2)\n",
    "\n",
    "        if env.observe()[1] == True:\n",
    "              rew.append(env.reward(player=player1))\n",
    "              Q[(state_now,best_action1)] = Q[(state_now,best_action1)] + 0.05*(env.reward(player=player1))\n",
    "              break\n",
    "\n",
    "        #Gather information about the state the game is in after the computer played\n",
    "        future_state = str(env.observe()[0].flatten())\n",
    "        fut_best_action, _ = best_action_policy(env.observe()[0],action,Q,0.)\n",
    "        if env.observe()[1] == True:\n",
    "            Q[(state_now,best_action1)] = Q[(state_now,best_action1)] + 0.05*(env.reward(player=player1) + 0.99*Q[(future_state,fut_best_action)] - Q[(state_now,best_action1)])\n",
    "            break\n",
    "\n",
    "        else:\n",
    "              Q[(state_now,best_action1)] = Q[(state_now,best_action1)] + 0.05*(env.reward(player=player1) + 0.99*Q[(future_state,fut_best_action)] - Q[(state_now,best_action1)])\n",
    "\n"
   ]
  },
  {
   "cell_type": "code",
   "execution_count": 22,
   "metadata": {},
   "outputs": [
    {
     "data": {
      "image/png": "[encoded data removed]",
      "text/plain": [
       "<Figure size 432x288 with 1 Axes>"
      ]
     },
     "metadata": {
      "needs_background": "light"
     },
     "output_type": "display_data"
    }
   ],
   "source": [
    "plt.plot(M_opt)\n",
    "plt.show()"
   ]
  },
  {
   "cell_type": "code",
   "execution_count": 23,
   "metadata": {},
   "outputs": [
    {
     "data": {
      "image/png": "[encoded data removed]",
      "text/plain": [
       "<Figure size 432x288 with 1 Axes>"
      ]
     },
     "metadata": {
      "needs_background": "light"
     },
     "output_type": "display_data"
    }
   ],
   "source": [
    "plt.plot(M_rand)\n",
    "plt.show()"
   ]
  },
  {
   "cell_type": "code",
   "execution_count": null,
   "metadata": {},
   "outputs": [],
   "source": []
  }
 ],
 "metadata": {
  "interpreter": {
   "hash": "aee8b7b246df8f9039afb4144a1f6fd8d2ca17a180786b69acc140d282b71a49"
  },
  "kernelspec": {
   "display_name": "Python 3",
   "language": "python",
   "name": "python3"
  },
  "language_info": {
   "codemirror_mode": {
    "name": "ipython",
    "version": 3
   },
   "file_extension": ".py",
   "mimetype": "text/x-python",
   "name": "python",
   "nbconvert_exporter": "python",
   "pygments_lexer": "ipython3",
   "version": "3.8.8"
  }
 },
 "nbformat": 4,
 "nbformat_minor": 2
}
